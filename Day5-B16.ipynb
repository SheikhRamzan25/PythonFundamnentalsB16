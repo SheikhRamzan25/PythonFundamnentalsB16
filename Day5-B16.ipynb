{
 "cells": [
  {
   "cell_type": "code",
   "execution_count": 9,
   "metadata": {},
   "outputs": [
    {
     "name": "stdout",
     "output_type": "stream",
     "text": [
      "['ind', 'bag', 'pak', 'uae', 'afg']\n"
     ]
    }
   ],
   "source": [
    "cricket_team=['ind','bag','pak','uae','afg']\n",
    "print(cricket_team)"
   ]
  },
  {
   "cell_type": "code",
   "execution_count": 2,
   "metadata": {},
   "outputs": [
    {
     "data": {
      "text/plain": [
       "5"
      ]
     },
     "execution_count": 2,
     "metadata": {},
     "output_type": "execute_result"
    }
   ],
   "source": [
    "len(cricket_team)"
   ]
  },
  {
   "cell_type": "code",
   "execution_count": 10,
   "metadata": {},
   "outputs": [
    {
     "name": "stdout",
     "output_type": "stream",
     "text": [
      "['ind', 'rcb', 'bag', 'pak', 'uae', 'afg']\n"
     ]
    }
   ],
   "source": [
    "cricket_team.insert(1,'rcb')\n",
    "print(cricket_team)"
   ]
  },
  {
   "cell_type": "code",
   "execution_count": 12,
   "metadata": {},
   "outputs": [
    {
     "name": "stdout",
     "output_type": "stream",
     "text": [
      "['afg', 'bag', 'ind', 'pak', 'rcb', 'uae']\n"
     ]
    }
   ],
   "source": [
    "print(sorted(cricket_team))"
   ]
  },
  {
   "cell_type": "code",
   "execution_count": 13,
   "metadata": {},
   "outputs": [
    {
     "name": "stdout",
     "output_type": "stream",
     "text": [
      "['ind', 'rcb', 'bag', 'pak', 'uae', 'afg']\n"
     ]
    }
   ],
   "source": [
    "print(cricket_team)"
   ]
  },
  {
   "cell_type": "code",
   "execution_count": 39,
   "metadata": {},
   "outputs": [
    {
     "name": "stdout",
     "output_type": "stream",
     "text": [
      "['afg', 'bag', 'ind', 'pak', 'rcb', 'uae']\n"
     ]
    }
   ],
   "source": [
    "cricket_team.sort()\n",
    "print(cricket_team)"
   ]
  },
  {
   "cell_type": "code",
   "execution_count": 51,
   "metadata": {},
   "outputs": [
    {
     "name": "stdout",
     "output_type": "stream",
     "text": [
      "['afg', 'bag', 'ind', 'pak', 'rcb', 'uae']\n",
      "['uae', 'rcb', 'pak', 'ind', 'bag', 'afg']\n",
      "['afg', 'bag', 'ind', 'pak', 'rcb', 'uae']\n"
     ]
    }
   ],
   "source": [
    "cricket_team.reverse()\n",
    "print(cricket_team)\n",
    "cricket_team.reverse()\n",
    "print(cricket_team)\n",
    "cricket_team.reverse()\n",
    "print(cricket_team)"
   ]
  },
  {
   "cell_type": "code",
   "execution_count": null,
   "metadata": {},
   "outputs": [],
   "source": []
  },
  {
   "cell_type": "code",
   "execution_count": null,
   "metadata": {},
   "outputs": [],
   "source": []
  }
 ],
 "metadata": {
  "kernelspec": {
   "display_name": "Python 3",
   "language": "python",
   "name": "python3"
  },
  "language_info": {
   "codemirror_mode": {
    "name": "ipython",
    "version": 3
   },
   "file_extension": ".py",
   "mimetype": "text/x-python",
   "name": "python",
   "nbconvert_exporter": "python",
   "pygments_lexer": "ipython3",
   "version": "3.7.6"
  }
 },
 "nbformat": 4,
 "nbformat_minor": 4
}
